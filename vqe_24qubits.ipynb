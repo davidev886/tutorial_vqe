{
 "cells": [
  {
   "cell_type": "code",
   "execution_count": null,
   "metadata": {},
   "outputs": [],
   "source": [
    "\"\"\"\n",
    "Contains the main file for running a complete VQE with cudaquantum\n",
    "\"\"\"\n",
    "import numpy as np\n",
    "from src.vqe_cudaq_qnp import get_molecular_hamiltonian\n",
    "from src.vqe_cudaq_qnp import VQE\n",
    "from src.vqe_cudaq_qnp import get_cudaq_hamiltonian\n",
    "import pickle\n",
    "import time\n",
    "jw_hamiltonian_file = \"fenta/ham_fenta_cc-pvtz_9e_12o.pickle\"\n",
    "\n",
    "num_active_orbitals = 12\n",
    "num_active_electrons = 9\n",
    "spin = 1\n",
    "\n",
    "with open(jw_hamiltonian_file, \"rb\") as hamiltonian_file:\n",
    "    jw_hamiltonian = pickle.load(hamiltonian_file)\n",
    "hamiltonian, constant_term = get_cudaq_hamiltonian(jw_hamiltonian)\n",
    "\n"
   ]
  },
  {
   "cell_type": "code",
   "execution_count": null,
   "metadata": {},
   "outputs": [],
   "source": [
    "\n",
    "MINIMIZE_METHODS_NEW_CB = ['nelder-mead', 'powell', 'cg', 'bfgs', 'newton-cg',\n",
    "                           'l-bfgs-b', 'trust-constr', 'dogleg', 'trust-ncg',\n",
    "                           'trust-exact', 'trust-krylov', 'cobyqa']\n",
    "\n",
    "# Define some options for the VQE\n",
    "options = {'n_vqe_layers': 1,\n",
    "           'maxiter': 1000,\n",
    "           'energy_core': constant_term,\n",
    "           'return_final_state_vec': False,\n",
    "           'optimizer': 'nelder-mead',\n",
    "           'mpi_support': True}\n",
    "\n",
    "n_qubits = 2 * num_active_orbitals\n",
    "start_t = time.time()\n",
    "vqe = VQE(n_qubits=n_qubits,\n",
    "          num_active_electrons=num_active_electrons,\n",
    "          spin=spin,\n",
    "          options=options)\n",
    "\n",
    "results = vqe.execute(hamiltonian)\n",
    "\n",
    "# Best energy from VQE\n",
    "optimized_energy = results['energy_optimized']\n",
    "\n",
    "energy_optimized = results['callback_energies']\n",
    "\n",
    "np.savetxt(\"energies.dat\", energy_optimized)\n",
    "end_t = time.time()\n",
    "print(\"# Time for VQE [min]\", (end_t-start_t) / 60)"
   ]
  }
 ],
 "metadata": {
  "language_info": {
   "name": "python"
  }
 },
 "nbformat": 4,
 "nbformat_minor": 2
}
